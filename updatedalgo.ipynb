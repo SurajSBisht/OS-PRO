{
 "cells": [
  {
   "cell_type": "code",
   "execution_count": 2,
   "id": "333e5bde",
   "metadata": {},
   "outputs": [],
   "source": [
    "import random\n",
    "import numpy as np\n",
    "import pandas as pd\n",
    "from sklearn.model_selection import train_test_split, GridSearchCV, cross_val_score\n",
    "from sklearn.preprocessing import LabelEncoder, StandardScaler\n",
    "from sklearn.ensemble import RandomForestClassifier\n",
    "from sklearn.linear_model import LogisticRegression\n",
    "from sklearn.svm import SVC\n",
    "from sklearn.metrics import accuracy_score, classification_report, confusion_matrix\n",
    "import joblib\n",
    "import matplotlib.pyplot as plt\n",
    "import seaborn as sns   # optional but useful for confusion matrix (install if you want)"
   ]
  },
  {
   "cell_type": "code",
   "execution_count": 3,
   "id": "900c2c38",
   "metadata": {},
   "outputs": [],
   "source": [
    "# -----------------------------\n",
    "# 1. Reproducibility\n",
    "# -----------------------------\n",
    "RND = 42\n",
    "random.seed(RND)\n",
    "np.random.seed(RND)\n"
   ]
  },
  {
   "cell_type": "code",
   "execution_count": 4,
   "id": "b8e4bb8e",
   "metadata": {},
   "outputs": [],
   "source": [
    "# 2. Algorithm simulators\n",
    "# -----------------------------\n",
    "def fifo(pages, frames):\n",
    "    memory, faults = [], 0\n",
    "    for page in pages:\n",
    "        if page not in memory:\n",
    "            faults += 1\n",
    "            if len(memory) < frames:\n",
    "                memory.append(page)\n",
    "            else:\n",
    "                memory.pop(0)\n",
    "                memory.append(page)\n",
    "    return faults\n",
    "\n",
    "def lru(pages, frames):\n",
    "    memory, faults = [], 0\n",
    "    for i, page in enumerate(pages):\n",
    "        if page not in memory:\n",
    "            faults += 1\n",
    "            if len(memory) < frames:\n",
    "                memory.append(page)\n",
    "            else:\n",
    "                # Find least recently used in memory\n",
    "                last_indexes = []\n",
    "                for p in memory:\n",
    "                    rev = pages[:i][::-1]\n",
    "                    if p in rev:\n",
    "                        last_indexes.append(rev.index(p))\n",
    "                    else:\n",
    "                        last_indexes.append(float('inf'))\n",
    "                lru_idx = int(np.argmax(last_indexes))\n",
    "                memory[lru_idx] = page\n",
    "    return faults\n",
    "\n",
"def optimal(pages, frames):\n",
"    memory, faults = [], 0\n",
"    for i, page in enumerate(pages):\n",
"        if page not in memory:\n",
"            faults += 1\n",
"            if len(memory) < frames:\n",
"                memory.append(page)\n",
"            else:\n",
"                future = pages[i+1:]\n",
"                farthest_index = -1\n",
"                page_to_remove = None\n",
"                for p in memory:\n",
"                    if p in future:\n",
"                        index = future.index(p)\n",
"                    else:\n",
"                        index = float('inf')\n",
"                    if index > farthest_index:\n",
"                        farthest_index = index\n",
"                        page_to_remove = p\n",
"                memory.remove(page_to_remove)\n",
"                memory.append(page)\n",
"    return faults\n"
   ]
  },
  {
   "cell_type": "code",
   "execution_count": 5,
   "id": "754fa43f",
   "metadata": {},
   "outputs": [],
   "source": [
    "# 3. Sequence generator (with small improvements)\n",
    "# -----------------------------\n",
    "def generate_sequence(n_pages, length, locality):\n",
    "    seq = []\n",
    "    for _ in range(length):\n",
    "        if random.random() < locality and seq:\n",
    "            # pick recent item to model locality\n",
    "            seq.append(random.choice(seq[-max(1, min(5, len(seq))):]))\n",
    "        else:\n",
    "            seq.append(random.randint(0, n_pages - 1))\n",
    "    return seq\n"
   ]
  },
  {
   "cell_type": "code",
   "execution_count": 6,
   "id": "7610d2d8",
   "metadata": {},
   "outputs": [
    {
     "name": "stdout",
     "output_type": "stream",
     "text": [
      "Class counts: {'FIFO': 250, 'LRU': 250, 'Optimal': 250}\n",
      "best_algo\n",
      "FIFO       250\n",
      "Optimal    250\n",
      "LRU        250\n",
      "Name: count, dtype: int64\n"
     ]
    }
   ],
   "source": [
    "# 4. Balanced dataset generation with extra features\n",
    "# -----------------------------\n",
    "def create_balanced_dataset(target_each=300):  # 300*3 = 900 samples\n",
    "    data = []\n",
    "    counts = {\"FIFO\":0, \"LRU\":0, \"Optimal\":0}\n",
    "    attempts = 0\n",
    "    while min(counts.values()) < target_each and attempts < 20000:\n",
    "        attempts += 1\n",
    "        n_pages = random.randint(5, 40)\n",
    "        frames = random.randint(1, min(12, max(1, n_pages//1)))  # frames <= pages reasonably\n",
    "        seq_len = random.randint(20, 200)\n",
    "        locality = round(random.uniform(0.05, 0.95), 2)\n",
    "        seq = generate_sequence(n_pages, seq_len, locality)\n",
    "\n",
    "        f = fifo(seq, frames)\n",
    "        l = lru(seq, frames)\n",
    "        o = optimal(seq, frames)\n",
    "        best = min([(\"FIFO\", f), (\"LRU\", l), (\"Optimal\", o)], key=lambda x: x[1])[0]\n",
    "\n",
    "        if counts[best] < target_each:\n",
    "            # extra features\n",
    "            frames_to_pages = frames / max(1, n_pages)\n",
    "            avg_faults = np.mean([f, l, o])\n",
    "            # frequency variance of pages (gives idea of repetition)\n",
    "            vals, cnts = np.unique(seq, return_counts=True)\n",
    "            freq_var = np.var(cnts) if len(cnts)>0 else 0.0\n",
    "\n",
    "            data.append([n_pages, frames, locality, seq_len, frames_to_pages, freq_var, f, l, o, best])\n",
    "            counts[best] += 1\n",
    "\n",
    "    df = pd.DataFrame(data, columns=[\n",
    "        \"num_pages\",\"memory_size\",\"locality\",\"sequence_len\",\n",
    "        \"frames_to_pages\",\"freq_var\",\"fifo_faults\",\"lru_faults\",\"optimal_faults\",\"best_algo\"\n",
    "    ])\n",
    "    return df, counts\n",
    "\n",
    "df, counts = create_balanced_dataset(target_each=250)  # adjust number for runtime\n",
    "print(\"Class counts:\", counts)\n",
    "print(df[\"best_algo\"].value_counts())"
   ]
  },
  {
   "cell_type": "code",
   "execution_count": 7,
   "id": "0af1792e",
   "metadata": {},
   "outputs": [
    {
     "name": "stdout",
     "output_type": "stream",
     "text": [
      "Saved: improved_page_replacement_dataset.csv\n"
     ]
    }
   ],
   "source": [
    "# Save dataset\n",
    "df.to_csv(\"improved_page_replacement_dataset.csv\", index=False)\n",
    "print(\"Saved: improved_page_replacement_dataset.csv\")"
   ]
  },
  {
   "cell_type": "code",
   "execution_count": 8,
   "id": "0e0d344c",
   "metadata": {},
   "outputs": [],
   "source": [
    "# 5. Features / labels and train/test split\n",
    "# -----------------------------\n",
    "features = [\"num_pages\",\"memory_size\",\"locality\",\"sequence_len\",\"frames_to_pages\",\"freq_var\"]\n",
    "X = df[features]\n",
    "y = df[\"best_algo\"]\n",
    "\n",
    "le = LabelEncoder()\n",
    "y_enc = le.fit_transform(y)\n",
    "\n",
    "X_train, X_test, y_train, y_test = train_test_split(\n",
    "    X, y_enc, test_size=0.2, random_state=RND, stratify=y_enc)\n",
    "\n",
    "# Optional scaling for models like LogisticRegression / SVM\n",
    "scaler = StandardScaler()\n",
    "X_train_scaled = scaler.fit_transform(X_train)\n",
    "X_test_scaled = scaler.transform(X_test)"
   ]
  },
  {
   "cell_type": "code",
   "execution_count": 9,
   "id": "824ed87b",
   "metadata": {},
   "outputs": [
    {
     "name": "stdout",
     "output_type": "stream",
     "text": [
      "RandomForest accuracy: 0.820\n",
      "              precision    recall  f1-score   support\n",
      "\n",
      "        FIFO       0.85      0.80      0.82        50\n",
      "         LRU       0.73      0.80      0.76        50\n",
      "     Optimal       0.90      0.86      0.88        50\n",
      "\n",
      "    accuracy                           0.82       150\n",
      "   macro avg       0.82      0.82      0.82       150\n",
      "weighted avg       0.82      0.82      0.82       150\n",
      "\n",
      "----------------------------------------\n",
      "LogisticRegression accuracy: 0.540\n",
      "              precision    recall  f1-score   support\n",
      "\n",
      "        FIFO       0.35      0.26      0.30        50\n",
      "         LRU       0.51      0.62      0.56        50\n",
      "     Optimal       0.71      0.74      0.73        50\n",
      "\n",
      "    accuracy                           0.54       150\n",
      "   macro avg       0.52      0.54      0.53       150\n",
      "weighted avg       0.52      0.54      0.53       150\n",
      "\n",
      "----------------------------------------\n",
      "SVM accuracy: 0.740\n",
      "              precision    recall  f1-score   support\n",
      "\n",
      "        FIFO       0.84      0.62      0.71        50\n",
      "         LRU       0.59      0.82      0.68        50\n",
      "     Optimal       0.91      0.78      0.84        50\n",
      "\n",
      "    accuracy                           0.74       150\n",
      "   macro avg       0.78      0.74      0.74       150\n",
      "weighted avg       0.78      0.74      0.74       150\n",
      "\n",
      "----------------------------------------\n",
      "Best model: RandomForest with accuracy 0.82\n",
      "Saved models: label_encoder.pkl, scaler.pkl, best_algo_model.pkl\n"
     ]
    }
   ],
   "source": [
    "models = {\n",
    "    \"RandomForest\": RandomForestClassifier(n_estimators=200, random_state=RND),\n",
    "    \"LogisticRegression\": LogisticRegression(max_iter=1000, random_state=RND),\n",
    "    \"SVM\": SVC(kernel=\"rbf\", probability=True, random_state=RND)\n",
    "}\n",
    "\n",
    "results = {}\n",
    "for name, model in models.items():\n",
    "    if name == \"LogisticRegression\" or name==\"SVM\":\n",
    "        model.fit(X_train_scaled, y_train)\n",
    "        preds = model.predict(X_test_scaled)\n",
    "    else:\n",
    "        model.fit(X_train, y_train)\n",
    "        preds = model.predict(X_test)\n",
    "    acc = accuracy_score(y_test, preds)\n",
    "    results[name] = (model, acc)\n",
    "    print(f\"{name} accuracy: {acc:.3f}\")\n",
    "    print(classification_report(y_test, preds, target_names=le.classes_))\n",
    "    print(\"-\"*40)\n",
    "\n",
    "# Choose best model by accuracy\n",
    "best_name = max(results, key=lambda k: results[k][1])\n",
    "best_model = results[best_name][0]\n",
    "print(\"Best model:\", best_name, \"with accuracy\", results[best_name][1])\n",
    "\n",
    "# If best model needs scaler, we save scaler too\n",
    "joblib.dump(le, \"label_encoder.pkl\")\n",
    "joblib.dump(scaler, \"scaler.pkl\")\n",
    "joblib.dump(best_model, \"best_algo_model.pkl\")\n",
    "print(\"Saved models: label_encoder.pkl, scaler.pkl, best_algo_model.pkl\")"
   ]
  },
  {
   "cell_type": "code",
   "execution_count": 10,
   "id": "6e3f358a",
   "metadata": {},
   "outputs": [
    {
     "data": {
      "image/png": "[encoded data removed]",
      "text/plain": [
       "<Figure size 600x500 with 2 Axes>"
      ]
     },
     "metadata": {},
     "output_type": "display_data"
    }
   ],
   "source": [
    "# 7. Confusion matrix visualization\n",
    "# -----------------------------\n",
    "if best_name == \"LogisticRegression\" or best_name == \"SVM\":\n",
    "    y_pred = best_model.predict(X_test_scaled)\n",
    "else:\n",
    "    y_pred = best_model.predict(X_test)\n",
    "\n",
    "cm = confusion_matrix(y_test, y_pred)\n",
    "plt.figure(figsize=(6,5))\n",
    "sns.heatmap(cm, annot=True, fmt=\"d\", xticklabels=le.classes_, yticklabels=le.classes_)\n",
    "plt.xlabel(\"Predicted\")\n",
    "plt.ylabel(\"True\")\n",
    "plt.title(\"Confusion Matrix\")\n",
    "plt.savefig(\"confusion_matrix.png\")\n",
    "plt.show()"
   ]
  },
  {
   "cell_type": "code",
   "execution_count": 11,
   "id": "2827030d",
   "metadata": {},
   "outputs": [
    {
     "name": "stdout",
     "output_type": "stream",
     "text": [
      "Example predictions:\n",
      "[5, 2, 0.1, 30] -> Optimal\n",
      "[30, 8, 0.8, 150] -> Optimal\n"
     ]
    }
   ],
   "source": [
    "# 8. Quick test predictions (use DataFrame with feature names to avoid warnings)\n",
    "# -----------------------------\n",
    "def predict_sample(sample, use_scaled=False):\n",
    "    # sample: [num_pages, memory_size, locality, sequence_len]\n",
    "    frames_to_pages = sample[1] / max(1, sample[0])\n",
    "    # create dummy sequence to compute freq_var? We don't have seq here -\n",
    "    # we'll set freq_var = small value for demo (or you can compute from an actual sequence)\n",
    "    freq_var = 0.0\n",
    "    row = pd.DataFrame([[sample[0], sample[1], sample[2], sample[3], frames_to_pages, freq_var]],\n",
    "                       columns=features)\n",
    "    if use_scaled:\n",
    "        arr = scaler.transform(row)\n",
    "        pred = best_model.predict(arr)\n",
    "    else:\n",
    "        pred = best_model.predict(row)\n",
    "    return le.inverse_transform(pred)[0]\n",
    "\n",
    "print(\"Example predictions:\")\n",
    "print([5,2,0.1,30], \"->\", predict_sample([5,2,0.1,30], use_scaled=(best_name!=\"RandomForest\")))\n",
    "print([30,8,0.8,150], \"->\", predict_sample([30,8,0.8,150], use_scaled=(best_name!=\"RandomForest\")))"
   ]
  },
  {
   "cell_type": "code",
   "execution_count": 12,
   "id": "f07a9e31",
   "metadata": {},
   "outputs": [],
   "source": [
    "import joblib, pandas as pd\n",
    "\n",
    "best_model = joblib.load(\"best_algo_model.pkl\")\n",
    "le = joblib.load(\"label_encoder.pkl\")\n",
    "scaler = joblib.load(\"scaler.pkl\")   # needed for some models\n",
    "\n",
    "features = [\"num_pages\",\"memory_size\",\"locality\",\"sequence_len\",\"frames_to_pages\",\"freq_var\"]\n",
    "def model_predict(num_pages_val, memory_size_val, locality_val, sequence_len_val):\n",
    "    frames_to_pages = memory_size_val / max(1, num_pages_val)\n",
    "    freq_var = 0.0  # or compute if you provide sequence\n",
    "    df_input = pd.DataFrame([[num_pages_val, memory_size_val, locality_val, sequence_len_val, frames_to_pages, freq_var]],\n",
    "                            columns=features)\n",
    "    # if using scaled model:\n",
    "    try:\n",
    "        arr = scaler.transform(df_input)\n",
    "        pred = best_model.predict(arr)\n",
    "    except:\n",
    "        pred = best_model.predict(df_input)\n",
    "    return le.inverse_transform(pred)[0]\n"
   ]
  },
  {
   "cell_type": "code",
   "execution_count": null,
   "id": "85090fed",
   "metadata": {},
   "outputs": [
    {
     "data": {
      "application/vnd.jupyter.widget-view+json": {
       "model_id": "0e291443940f425fad0100eb462a6d28",
       "version_major": 2,
       "version_minor": 0
      },
      "text/plain": [
       "IntSlider(value=10, description='No. of Pages:', max=50, min=5)"
      ]
     },
     "metadata": {},
     "output_type": "display_data"
    },
    {
     "data": {
      "application/vnd.jupyter.widget-view+json": {
       "model_id": "7291bcf26bd74bd39f8380a71a5a9c96",
       "version_major": 2,
       "version_minor": 0
      },
      "text/plain": [
       "IntSlider(value=3, description='Frames:', max=12, min=2)"
      ]
     },
     "metadata": {},
     "output_type": "display_data"
    },
    {
     "data": {
      "application/vnd.jupyter.widget-view+json": {
       "model_id": "85297b5be72445eabacb418f6b3e584f",
       "version_major": 2,
       "version_minor": 0
      },
      "text/plain": [
       "FloatSlider(value=0.5, description='Locality:', max=0.95, min=0.05, step=0.05)"
      ]
     },
     "metadata": {},
     "output_type": "display_data"
    },
    {
     "data": {
      "application/vnd.jupyter.widget-view+json": {
       "model_id": "1c96f429d78946c3bb42a0efe896a43b",
       "version_major": 2,
       "version_minor": 0
      },
      "text/plain": [
       "IntSlider(value=50, description='Seq Length:', max=200, min=10, step=10)"
      ]
     },
     "metadata": {},
     "output_type": "display_data"
    },
    {
     "data": {
      "application/vnd.jupyter.widget-view+json": {
       "model_id": "bb47cc6d06ff4c5291bbbe7d42c1dda6",
       "version_major": 2,
       "version_minor": 0
      },
      "text/plain": [
       "Button(button_style='success', description='Predict Best Algorithm', style=ButtonStyle())"
      ]
     },
     "metadata": {},
     "output_type": "display_data"
    },
    {
     "data": {
      "application/vnd.jupyter.widget-view+json": {
       "model_id": "7f0ad8d3e20548728bda94b2776d91ad",
       "version_major": 2,
       "version_minor": 0
      },
      "text/plain": [
       "Output()"
      ]
     },
     "metadata": {},
     "output_type": "display_data"
    }
   ],
   "source": [
    "import ipywidgets as widgets\n",
    "from IPython.display import display, clear_output\n",
    "import pandas as pd\n",
    "import joblib\n",
    "\n",
    "# --- Load saved model, encoder, and scaler (if needed) ---\n",
    "model = joblib.load(\"best_algo_model.pkl\")\n",
    "le = joblib.load(\"label_encoder.pkl\")\n",
    "try:\n",
    "    scaler = joblib.load(\"scaler.pkl\")\n",
    "    use_scaled = True\n",
    "except:\n",
    "    scaler = None\n",
    "    use_scaled = False\n",
    "\n",
    "# Features for prediction\n",
    "features = [\"num_pages\",\"memory_size\",\"locality\",\"sequence_len\",\"frames_to_pages\",\"freq_var\"]\n",
    "\n",
    "# --- Create input widgets ---\n",
    "num_pages = widgets.IntSlider(value=10, min=5, max=50, step=1, description=\"No. of Pages:\")\n",
    "memory_size = widgets.IntSlider(value=3, min=2, max=12, step=1, description=\"Frames:\")\n",
    "locality = widgets.FloatSlider(value=0.5, min=0.05, max=0.95, step=0.05, description=\"Locality:\")\n",
    "sequence_len = widgets.IntSlider(value=50, min=10, max=200, step=10, description=\"Seq Length:\")\n",
    "\n",
    "# Output area\n",
    "out = widgets.Output()\n",
    "\n",
    "# --- Prediction function ---\n",
    "def predict_algo(change):\n",
    "    with out:\n",
    "        clear_output()\n",
    "        frames_to_pages = memory_size.value / max(1, num_pages.value)\n",
    "        freq_var = 0.0  # placeholder; optional if you have sequence info\n",
    "        df_input = pd.DataFrame([[num_pages.value, memory_size.value, locality.value, sequence_len.value,\n",
    "                                  frames_to_pages, freq_var]],\n",
    "                                columns=features)\n",
    "        \n",
    "        # Scale if needed\n",
    "        if use_scaled:\n",
    "            df_input_scaled = scaler.transform(df_input)\n",
    "            pred = model.predict(df_input_scaled)\n",
    "        else:\n",
    "            pred = model.predict(df_input)\n",
    "        \n",
    "        pred_algo = le.inverse_transform(pred)[0]\n",
    "        print(f\"🧠 Predicted Best Algorithm: {pred_algo}\")\n",
    "\n",
    "# --- Button to trigger prediction ---\n",
    "button = widgets.Button(description=\"Predict Best Algorithm\", button_style='success')\n",
    "button.on_click(predict_algo)\n",
    "\n",
    "# --- Display sliders and button ---\n",
    "display(num_pages, memory_size, locality, sequence_len, button, out)\n"
   ]
  }
 ],
 "metadata": {
  "kernelspec": {
   "display_name": "Python 3",
   "language": "python",
   "name": "python3"
  },
  "language_info": {
   "codemirror_mode": {
    "name": "ipython",
    "version": 3
   },
   "file_extension": ".py",
   "mimetype": "text/x-python",
   "name": "python",
   "nbconvert_exporter": "python",
   "pygments_lexer": "ipython3",
   "version": "3.12.4"
  }
 },
 "nbformat": 4,
 "nbformat_minor": 5
}
